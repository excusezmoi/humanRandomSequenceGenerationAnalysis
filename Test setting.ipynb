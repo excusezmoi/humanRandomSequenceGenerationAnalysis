{
 "cells": [
  {
   "cell_type": "markdown",
   "id": "5165c6cb",
   "metadata": {},
   "source": [
    "# Learn How to Use Jupyter notebook to develop a psycological test"
   ]
  },
  {
   "cell_type": "markdown",
   "id": "a734dba2",
   "metadata": {},
   "source": [
    "## Expyriment"
   ]
  },
  {
   "cell_type": "code",
   "execution_count": 1,
   "id": "86038dc5",
   "metadata": {},
   "outputs": [
    {
     "name": "stdout",
     "output_type": "stream",
     "text": [
      "Expyriment 0.10.0 (Python 3.8.8) \n",
      "\n",
      "Python is running in an interactive shell but Expyriment wants to initialize a\n",
      "fullscreen.\n",
      "Do you want to switch to windows mode? (Y/n) y\n",
      "Switched to windows mode\n",
      "Standard output and error logging is switched off under IPython.\n"
     ]
    },
    {
     "data": {
      "text/plain": [
       "True"
      ]
     },
     "execution_count": 1,
     "metadata": {},
     "output_type": "execute_result"
    }
   ],
   "source": [
    "import expyriment\n",
    "\n",
    "exp = expyriment.design.Experiment(name=\"First Experiment\")\n",
    "expyriment.control.initialize(exp)\n",
    "\n",
    "expyriment.control.start()\n",
    "\n",
    "expyriment.control.end()"
   ]
  },
  {
   "cell_type": "code",
   "execution_count": 14,
   "id": "ad171221",
   "metadata": {},
   "outputs": [
    {
     "name": "stdout",
     "output_type": "stream",
     "text": [
      "813\n"
     ]
    }
   ],
   "source": [
    "import random\n",
    "random.seed(6)\n",
    "random.setstate(random.getstate())\n",
    "print(random.randint(1,1000))"
   ]
  }
 ],
 "metadata": {
  "kernelspec": {
   "display_name": "Python 3",
   "language": "python",
   "name": "python3"
  },
  "language_info": {
   "codemirror_mode": {
    "name": "ipython",
    "version": 3
   },
   "file_extension": ".py",
   "mimetype": "text/x-python",
   "name": "python",
   "nbconvert_exporter": "python",
   "pygments_lexer": "ipython3",
   "version": "3.8.8"
  }
 },
 "nbformat": 4,
 "nbformat_minor": 5
}
