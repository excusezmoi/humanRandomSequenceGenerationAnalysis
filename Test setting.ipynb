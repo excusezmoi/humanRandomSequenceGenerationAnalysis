{
 "cells": [
  {
   "cell_type": "markdown",
   "id": "5165c6cb",
   "metadata": {},
   "source": [
    "# Learn How to Use Jupyter notebook to develop a psycological test"
   ]
  },
  {
   "cell_type": "markdown",
   "id": "a734dba2",
   "metadata": {},
   "source": [
    "## Expyriment"
   ]
  },
  {
   "cell_type": "code",
   "execution_count": 2,
   "id": "86038dc5",
   "metadata": {},
   "outputs": [
    {
     "ename": "ModuleNotFoundError",
     "evalue": "No module named 'expyriment'",
     "output_type": "error",
     "traceback": [
      "\u001b[1;31m---------------------------------------------------------------------------\u001b[0m",
      "\u001b[1;31mModuleNotFoundError\u001b[0m                       Traceback (most recent call last)",
      "Cell \u001b[1;32mIn[2], line 1\u001b[0m\n\u001b[1;32m----> 1\u001b[0m \u001b[39mimport\u001b[39;00m \u001b[39mexpyriment\u001b[39;00m\n\u001b[0;32m      3\u001b[0m exp \u001b[39m=\u001b[39m expyriment\u001b[39m.\u001b[39mdesign\u001b[39m.\u001b[39mExperiment(name\u001b[39m=\u001b[39m\u001b[39m\"\u001b[39m\u001b[39mFirst Experiment\u001b[39m\u001b[39m\"\u001b[39m)\n\u001b[0;32m      4\u001b[0m expyriment\u001b[39m.\u001b[39mcontrol\u001b[39m.\u001b[39minitialize(exp)\n",
      "\u001b[1;31mModuleNotFoundError\u001b[0m: No module named 'expyriment'"
     ]
    }
   ],
   "source": [
    "import expyriment\n",
    "\n",
    "exp = expyriment.design.Experiment(name=\"First Experiment\")\n",
    "expyriment.control.initialize(exp)\n",
    "\n",
    "expyriment.control.start()\n",
    "\n",
    "expyriment.control.end()"
   ]
  },
  {
   "cell_type": "code",
   "execution_count": 14,
   "id": "ad171221",
   "metadata": {},
   "outputs": [
    {
     "name": "stdout",
     "output_type": "stream",
     "text": [
      "813\n"
     ]
    }
   ],
   "source": [
    "import random\n",
    "random.seed(6)\n",
    "random.setstate(random.getstate())\n",
    "print(random.randint(1,1000))"
   ]
  }
 ],
 "metadata": {
  "kernelspec": {
   "display_name": "Python 3",
   "language": "python",
   "name": "python3"
  },
  "language_info": {
   "codemirror_mode": {
    "name": "ipython",
    "version": 3
   },
   "file_extension": ".py",
   "mimetype": "text/x-python",
   "name": "python",
   "nbconvert_exporter": "python",
   "pygments_lexer": "ipython3",
   "version": "3.11.0"
  }
 },
 "nbformat": 4,
 "nbformat_minor": 5
}
